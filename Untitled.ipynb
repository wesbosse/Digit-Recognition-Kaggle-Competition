{
 "cells": [
  {
   "cell_type": "code",
   "execution_count": 1,
   "metadata": {},
   "outputs": [
    {
     "ename": "ModuleNotFoundError",
     "evalue": "No module named 'keras'",
     "output_type": "error",
     "traceback": [
      "\u001b[1;31m---------------------------------------------------------------------------\u001b[0m",
      "\u001b[1;31mModuleNotFoundError\u001b[0m                       Traceback (most recent call last)",
      "\u001b[1;32m<ipython-input-1-844e0554fc81>\u001b[0m in \u001b[0;36m<module>\u001b[1;34m()\u001b[0m\n\u001b[0;32m      3\u001b[0m \u001b[1;32mfrom\u001b[0m \u001b[0msklearn\u001b[0m\u001b[1;33m.\u001b[0m\u001b[0mmodel_selection\u001b[0m \u001b[1;32mimport\u001b[0m \u001b[0mtrain_test_split\u001b[0m\u001b[1;33m,\u001b[0m \u001b[0mGridSearchCV\u001b[0m\u001b[1;33m\u001b[0m\u001b[0m\n\u001b[0;32m      4\u001b[0m \u001b[1;32mfrom\u001b[0m \u001b[0msklearn\u001b[0m\u001b[1;33m.\u001b[0m\u001b[0mpipeline\u001b[0m \u001b[1;32mimport\u001b[0m \u001b[0mPipeline\u001b[0m\u001b[1;33m\u001b[0m\u001b[0m\n\u001b[1;32m----> 5\u001b[1;33m \u001b[1;32mfrom\u001b[0m \u001b[0mkeras\u001b[0m\u001b[1;33m.\u001b[0m\u001b[0mmodels\u001b[0m \u001b[1;32mimport\u001b[0m \u001b[0mSequential\u001b[0m\u001b[1;33m\u001b[0m\u001b[0m\n\u001b[0m\u001b[0;32m      6\u001b[0m \u001b[1;32mfrom\u001b[0m \u001b[0mkeras\u001b[0m\u001b[1;33m.\u001b[0m\u001b[0mwrappers\u001b[0m\u001b[1;33m.\u001b[0m\u001b[0mscikit_learn\u001b[0m \u001b[1;32mimport\u001b[0m \u001b[0mKerasClassifier\u001b[0m\u001b[1;33m\u001b[0m\u001b[0m\n\u001b[0;32m      7\u001b[0m \u001b[1;32mfrom\u001b[0m \u001b[0mkeras\u001b[0m\u001b[1;33m.\u001b[0m\u001b[0mlayers\u001b[0m \u001b[1;32mimport\u001b[0m \u001b[0mDense\u001b[0m\u001b[1;33m,\u001b[0m \u001b[0mConv2D\u001b[0m\u001b[1;33m,\u001b[0m \u001b[0mMaxPool2D\u001b[0m\u001b[1;33m,\u001b[0m \u001b[0mFlatten\u001b[0m\u001b[1;33m,\u001b[0m \u001b[0mDropout\u001b[0m\u001b[1;33m\u001b[0m\u001b[0m\n",
      "\u001b[1;31mModuleNotFoundError\u001b[0m: No module named 'keras'"
     ]
    }
   ],
   "source": [
    "import pandas as pd\n",
    "\n",
    "from sklearn.model_selection import train_test_split, GridSearchCV\n",
    "from sklearn.pipeline import Pipeline\n",
    "from keras.models import Sequential\n",
    "from keras.wrappers.scikit_learn import KerasClassifier\n",
    "from keras.layers import Dense, Conv2D, MaxPool2D, Flatten, Dropout\n",
    "\n",
    "\n",
    "train = pd.read_csv('train.csv')\n",
    "test = pd.read_csv('test.csv')\n",
    "\n",
    "X = train.drop(columns=['label'])\n",
    "X = X.values / 255.\n",
    "X = X.reshape(-1, 28, 28, 1)\n",
    "y = train['label']\n",
    "\n",
    "X_train, X_test, y_train, y_test = train_test_split(X, y, test_size=0.1)\n",
    "\n",
    "\n",
    "def model_func(n1=30, d1=2.5, s1=5, p1=2, n2=40, d2=.25, s2=3, p2=2, n3=200, d3=.5, n4=10):\n",
    "\n",
    "    model = Sequential()\n",
    "    model.add(Conv2D(n1, (s1, s1), input_shape=(28, 28, 1), activation='relu'))\n",
    "    model.add(MaxPool2D((p1, p1)))\n",
    "    model.add(Dropout(0.25))\n",
    "    model.add(Conv2D(n2, (s2, s2), activation='relu'))\n",
    "    model.add(MaxPool2D((p2, p2)))\n",
    "    model.add(Dropout(0.25))\n",
    "    model.add(Flatten())\n",
    "    model.add(Dense(n3, activation='relu'))\n",
    "    model.add(Dropout(0.5))\n",
    "    model.add(Dense(n4, activation='softmax'))\n",
    "\n",
    "    model.compile(loss='categorical_crossentropy', optimizer='adam', metrics=['accuracy'])\n",
    "\n",
    "    return model\n",
    "\n",
    "\n",
    "model = KerasClassifier(build_fn=model_func, epochs=12, verbose=1)\n",
    "\n",
    "pipe = Pipeline([\n",
    "    ('model', model)\n",
    "])\n",
    "\n",
    "\n",
    "params = {\n",
    "    'model__epochs': [20],\n",
    "    'model__n1': [30, 50, 80],\n",
    "    'model__d1': [.2, .35, .5],\n",
    "    'model__s1': [3,4,5],\n",
    "    'model__p1': [1,2,3],\n",
    "    'model__n2': [30,60],\n",
    "    'model__d2': [.2, .35, .5],\n",
    "    'model__s2': [2,3,4],\n",
    "    'model__p2': [1,2,3],\n",
    "    'model__n3': [10,50,200],\n",
    "    'model__d3': [.4, .5, .6]\n",
    "}\n",
    "\n",
    "gs = GridSearchCV(pipe, param_grid=params, cv=5)\n",
    "gs.fit(X_train, y_train)\n",
    "\n",
    "\n",
    "print('Train Score: ', gs.best_score_)\n",
    "print('Best Param Dict: ', gs.best_params_)\n",
    "print('Test Score: ', gs.score(X_test,y_test))\n",
    "\n",
    "\n",
    "X_pred = test\n",
    "X_pred = X_pred.values / 255.\n",
    "X_pred = X_pred.reshape(-1, 28, 28, 1)\n",
    "\n",
    "Y_pred = pd.DataFrame(gs.predict(X_pred), columns=['Label'])\n",
    "Y_pred.index += 1\n",
    "\n",
    "Y_pred['Label'].to_csv('submission.csv', index=True, index_label='ImageId', header=True)"
   ]
  },
  {
   "cell_type": "code",
   "execution_count": null,
   "metadata": {
    "collapsed": true
   },
   "outputs": [],
   "source": []
  }
 ],
 "metadata": {
  "kernelspec": {
   "display_name": "Python 3",
   "language": "python",
   "name": "python3"
  },
  "language_info": {
   "codemirror_mode": {
    "name": "ipython",
    "version": 3
   },
   "file_extension": ".py",
   "mimetype": "text/x-python",
   "name": "python",
   "nbconvert_exporter": "python",
   "pygments_lexer": "ipython3",
   "version": "3.6.3"
  }
 },
 "nbformat": 4,
 "nbformat_minor": 2
}
